{
 "cells": [
  {
   "cell_type": "code",
   "execution_count": 2,
   "id": "cd67e496-6335-438b-a032-170d8f3aeeab",
   "metadata": {},
   "outputs": [
    {
     "name": "stdout",
     "output_type": "stream",
     "text": [
      "hello world\n"
     ]
    }
   ],
   "source": [
    "print (\"hello world\")"
   ]
  },
  {
   "cell_type": "code",
   "execution_count": 9,
   "id": "5202bccd-b688-4499-ab18-0f4a70891971",
   "metadata": {},
   "outputs": [
    {
     "name": "stdout",
     "output_type": "stream",
     "text": [
      "quantos rebaixamentos o palmeiras tem\n"
     ]
    }
   ],
   "source": [
    "print(\"quantos rebaixamentos o palmeiras tem\")"
   ]
  },
  {
   "cell_type": "code",
   "execution_count": 10,
   "id": "e0acc8dc-9393-4831-80db-3deeb7a823a5",
   "metadata": {},
   "outputs": [
    {
     "name": "stdout",
     "output_type": "stream",
     "text": [
      "2\n"
     ]
    }
   ],
   "source": [
    "print(len (\"aa\"))"
   ]
  },
  {
   "cell_type": "code",
   "execution_count": null,
   "id": "004dfd43-3bed-4f36-a6af-dea3a086a022",
   "metadata": {},
   "outputs": [],
   "source": []
  }
 ],
 "metadata": {
  "kernelspec": {
   "display_name": "Python 3 (ipykernel)",
   "language": "python",
   "name": "python3"
  },
  "language_info": {
   "codemirror_mode": {
    "name": "ipython",
    "version": 3
   },
   "file_extension": ".py",
   "mimetype": "text/x-python",
   "name": "python",
   "nbconvert_exporter": "python",
   "pygments_lexer": "ipython3",
   "version": "3.12.9"
  }
 },
 "nbformat": 4,
 "nbformat_minor": 5
}
