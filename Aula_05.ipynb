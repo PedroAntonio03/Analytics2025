{
  "nbformat": 4,
  "nbformat_minor": 0,
  "metadata": {
    "colab": {
      "provenance": []
    },
    "kernelspec": {
      "name": "python3",
      "display_name": "Python 3"
    },
    "language_info": {
      "name": "python"
    }
  },
  "cells": [
    {
      "cell_type": "code",
      "execution_count": 1,
      "metadata": {
        "colab": {
          "base_uri": "https://localhost:8080/"
        },
        "id": "uxoZ3aH4AImX",
        "outputId": "d7799aca-748e-40d6-acf8-90fcffe80111"
      },
      "outputs": [
        {
          "output_type": "execute_result",
          "data": {
            "text/plain": [
              "['BPF',\n",
              " 'LOG4',\n",
              " 'NV_MAGICCONST',\n",
              " 'RECIP_BPF',\n",
              " 'Random',\n",
              " 'SG_MAGICCONST',\n",
              " 'SystemRandom',\n",
              " 'TWOPI',\n",
              " '_ONE',\n",
              " '_Sequence',\n",
              " '_Set',\n",
              " '__all__',\n",
              " '__builtins__',\n",
              " '__cached__',\n",
              " '__doc__',\n",
              " '__file__',\n",
              " '__loader__',\n",
              " '__name__',\n",
              " '__package__',\n",
              " '__spec__',\n",
              " '_accumulate',\n",
              " '_acos',\n",
              " '_bisect',\n",
              " '_ceil',\n",
              " '_cos',\n",
              " '_e',\n",
              " '_exp',\n",
              " '_floor',\n",
              " '_index',\n",
              " '_inst',\n",
              " '_isfinite',\n",
              " '_log',\n",
              " '_os',\n",
              " '_pi',\n",
              " '_random',\n",
              " '_repeat',\n",
              " '_sha512',\n",
              " '_sin',\n",
              " '_sqrt',\n",
              " '_test',\n",
              " '_test_generator',\n",
              " '_urandom',\n",
              " '_warn',\n",
              " 'betavariate',\n",
              " 'choice',\n",
              " 'choices',\n",
              " 'expovariate',\n",
              " 'gammavariate',\n",
              " 'gauss',\n",
              " 'getrandbits',\n",
              " 'getstate',\n",
              " 'lognormvariate',\n",
              " 'normalvariate',\n",
              " 'paretovariate',\n",
              " 'randbytes',\n",
              " 'randint',\n",
              " 'random',\n",
              " 'randrange',\n",
              " 'sample',\n",
              " 'seed',\n",
              " 'setstate',\n",
              " 'shuffle',\n",
              " 'triangular',\n",
              " 'uniform',\n",
              " 'vonmisesvariate',\n",
              " 'weibullvariate']"
            ]
          },
          "metadata": {},
          "execution_count": 1
        }
      ],
      "source": [
        "# importe a biblioteca random\n",
        "# TODO\n",
        "import random as random\n",
        "\n",
        "# quais métodos tem a biblioteca random?\n",
        "# TODO\n",
        "dir(random)\n",
        "\n"
      ]
    },
    {
      "cell_type": "code",
      "source": [
        "# imprima a ajuda sobre o método random.choice\n",
        "# TODO\n",
        "help(random.choice)"
      ],
      "metadata": {
        "colab": {
          "base_uri": "https://localhost:8080/"
        },
        "id": "gj1wQLW9Aepn",
        "outputId": "eb9c67cc-5f4a-4c68-d322-ced310308617"
      },
      "execution_count": 2,
      "outputs": [
        {
          "output_type": "stream",
          "name": "stdout",
          "text": [
            "Help on method choice in module random:\n",
            "\n",
            "choice(seq) method of random.Random instance\n",
            "    Choose a random element from a non-empty sequence.\n",
            "\n"
          ]
        }
      ]
    },
    {
      "cell_type": "code",
      "source": [
        "# crie uma lista de nome dado com números de 1 a 6 (inclusive estes)\n",
        "# TODO\n",
        "\n",
        "dado = list(range(1, 7))\n",
        "print(dado)"
      ],
      "metadata": {
        "colab": {
          "base_uri": "https://localhost:8080/"
        },
        "id": "6y4Vdo7AAjR8",
        "outputId": "751d0556-fb82-49ab-8f20-aaa6f92da038"
      },
      "execution_count": 3,
      "outputs": [
        {
          "output_type": "stream",
          "name": "stdout",
          "text": [
            "[1, 2, 3, 4, 5, 6]\n"
          ]
        }
      ]
    },
    {
      "cell_type": "code",
      "source": [
        "# aplique a função random.choice na lista dado\n",
        "# TODO\n",
        "dado = list(range(1, 7))\n",
        "resultado = random.choices(dado, weights=[1,1,1,1,1,50])\n",
        "print(f\"O valor sorteado foi: {resultado}\")"
      ],
      "metadata": {
        "colab": {
          "base_uri": "https://localhost:8080/"
        },
        "id": "VTUwZ8I4AmfU",
        "outputId": "907cb206-eb55-44a4-e309-4e38c6485e04"
      },
      "execution_count": 4,
      "outputs": [
        {
          "output_type": "stream",
          "name": "stdout",
          "text": [
            "O valor sorteado foi: [3]\n"
          ]
        }
      ]
    },
    {
      "cell_type": "code",
      "source": [
        "# Repita os dois passos acima mil vezes\n",
        "# TODO\n",
        "resultados = []\n",
        "for _ in range(1000):\n",
        "    n = random.choice([1, 2, 3, 4, 5, 6])\n",
        "    resultados.append(n)"
      ],
      "metadata": {
        "id": "OhN5CA69Ars-"
      },
      "execution_count": 6,
      "outputs": []
    },
    {
      "cell_type": "code",
      "source": [
        "# import a biblioteca numpy com apelido np\n",
        "# TODO\n",
        "import numpy as np"
      ],
      "metadata": {
        "id": "JOdBblHfAxig"
      },
      "execution_count": 9,
      "outputs": []
    },
    {
      "cell_type": "code",
      "source": [
        "# usa a função mean da biblioteca numpy para calcular a média dos resultados\n",
        "# TODO\n",
        "media = np.mean(resultados)\n",
        "print(media)"
      ],
      "metadata": {
        "colab": {
          "base_uri": "https://localhost:8080/"
        },
        "id": "BX-tYhKNAzjz",
        "outputId": "98c24e4b-4a9d-46e0-94e4-6e564769467f"
      },
      "execution_count": 10,
      "outputs": [
        {
          "output_type": "stream",
          "name": "stdout",
          "text": [
            "3.421\n"
          ]
        }
      ]
    },
    {
      "cell_type": "code",
      "source": [
        "# use a função std da biblioteca numpy para calcular o desvio padrão dos resultados\n",
        "# TODO\n",
        "desvio_padrao = np.std(resultados)\n",
        "print(desvio_padrao)"
      ],
      "metadata": {
        "colab": {
          "base_uri": "https://localhost:8080/"
        },
        "id": "1A5Fbp6MA83N",
        "outputId": "fbf9f320-32a4-4a33-d883-58271a81b11f"
      },
      "execution_count": 11,
      "outputs": [
        {
          "output_type": "stream",
          "name": "stdout",
          "text": [
            "1.7261978449760618\n"
          ]
        }
      ]
    },
    {
      "cell_type": "code",
      "source": [
        "# import a biblioteca matplotlib.pyplot com apelido plt\n",
        "# TODO\n",
        "import matplotlib.pyplot as plt"
      ],
      "metadata": {
        "id": "QzzjaT_SBL8e"
      },
      "execution_count": 16,
      "outputs": []
    },
    {
      "cell_type": "code",
      "source": [
        "# use a função hist da biblioteca plt para criar um histograma de resultados\n",
        "# TODO\n",
        "plt.hist(resultados)"
      ],
      "metadata": {
        "colab": {
          "base_uri": "https://localhost:8080/",
          "height": 482
        },
        "id": "8t8wfpNdA_my",
        "outputId": "09986c48-3a84-438b-a182-8084dd5457bc"
      },
      "execution_count": 17,
      "outputs": [
        {
          "output_type": "execute_result",
          "data": {
            "text/plain": [
              "(array([181.,   0., 182.,   0., 154.,   0., 162.,   0., 160., 161.]),\n",
              " array([1. , 1.5, 2. , 2.5, 3. , 3.5, 4. , 4.5, 5. , 5.5, 6. ]),\n",
              " <BarContainer object of 10 artists>)"
            ]
          },
          "metadata": {},
          "execution_count": 17
        },
        {
          "output_type": "display_data",
          "data": {
            "text/plain": [
              "<Figure size 640x480 with 1 Axes>"
            ],
            "image/png": "[encoded data removed]"
          },
          "metadata": {}
        }
      ]
    },
    {
      "cell_type": "code",
      "source": [
        "# use a função show da biblioteca plt para mostrar o histograma\n",
        "# TODO\n",
        "plt.hist(resultados)\n",
        "plt.show()\n",
        "\n"
      ],
      "metadata": {
        "colab": {
          "base_uri": "https://localhost:8080/",
          "height": 430
        },
        "id": "W-4sacN5BYBb",
        "outputId": "c3a0cbab-7043-4fd2-f4f6-833e0ed2c43b"
      },
      "execution_count": 18,
      "outputs": [
        {
          "output_type": "display_data",
          "data": {
            "text/plain": [
              "<Figure size 640x480 with 1 Axes>"
            ],
            "image/png": "[encoded data removed]"
          },
          "metadata": {}
        }
      ]
    }
  ]
}