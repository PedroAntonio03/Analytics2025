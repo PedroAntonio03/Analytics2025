{
  "nbformat": 4,
  "nbformat_minor": 0,
  "metadata": {
    "colab": {
      "provenance": []
    },
    "kernelspec": {
      "name": "python3",
      "display_name": "Python 3"
    },
    "language_info": {
      "name": "python"
    }
  },
  "cells": [
    {
      "cell_type": "code",
      "execution_count": 1,
      "metadata": {
        "colab": {
          "base_uri": "https://localhost:8080/"
        },
        "id": "I4hw9gMCiAi1",
        "outputId": "5dada8fa-99c6-4a28-89bc-630836da64ab"
      },
      "outputs": [
        {
          "output_type": "stream",
          "name": "stdout",
          "text": [
            "Temperatura em Celsius: 13.61°C\n"
          ]
        }
      ],
      "source": [
        "# Conversão de Fahrenheit para Celsius\n",
        "f = 56.5\n",
        "c = (f - 32) * 5 / 9\n",
        "print(f\"Temperatura em Celsius: {round(c, 2)}°C\")\n"
      ]
    },
    {
      "cell_type": "code",
      "source": [
        "# Simulando conteúdo de um arquivo com números\n",
        "conteudo_arquivo = \"12 45 33 8 90 22 5 13\"\n",
        "numeros = list(map(int, conteudo_arquivo.split()))\n",
        "print(\"Números lidos:\", numeros)\n"
      ],
      "metadata": {
        "colab": {
          "base_uri": "https://localhost:8080/"
        },
        "id": "s3gd6UIeiMFk",
        "outputId": "a5e408ce-636e-476f-da88-ba8c910456d3"
      },
      "execution_count": 2,
      "outputs": [
        {
          "output_type": "stream",
          "name": "stdout",
          "text": [
            "Números lidos: [12, 45, 33, 8, 90, 22, 5, 13]\n"
          ]
        }
      ]
    },
    {
      "cell_type": "code",
      "source": [
        "number = numeros.copy()\n",
        "print(\"Lista number:\", number)\n"
      ],
      "metadata": {
        "colab": {
          "base_uri": "https://localhost:8080/"
        },
        "id": "Qg34KnHSiPiX",
        "outputId": "9bb9d340-33a6-4dd2-84b5-ea0019f0f9c0"
      },
      "execution_count": 3,
      "outputs": [
        {
          "output_type": "stream",
          "name": "stdout",
          "text": [
            "Lista number: [12, 45, 33, 8, 90, 22, 5, 13]\n"
          ]
        }
      ]
    }
  ]
}