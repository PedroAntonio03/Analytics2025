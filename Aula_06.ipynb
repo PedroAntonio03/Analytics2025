{
  "nbformat": 4,
  "nbformat_minor": 0,
  "metadata": {
    "colab": {
      "provenance": []
    },
    "kernelspec": {
      "name": "python3",
      "display_name": "Python 3"
    },
    "language_info": {
      "name": "python"
    }
  },
  "cells": [
    {
      "cell_type": "code",
      "execution_count": 1,
      "metadata": {
        "colab": {
          "base_uri": "https://localhost:8080/"
        },
        "id": "UP8cVRdIEJqg",
        "outputId": "802fffa1-c5f9-4043-a6c8-3cea26fb9e17"
      },
      "outputs": [
        {
          "output_type": "stream",
          "name": "stdout",
          "text": [
            "                            OLS Regression Results                            \n",
            "==============================================================================\n",
            "Dep. Variable:                 Vendas   R-squared:                       0.998\n",
            "Model:                            OLS   Adj. R-squared:                  0.994\n",
            "Method:                 Least Squares   F-statistic:                     231.5\n",
            "Date:                Fri, 23 May 2025   Prob (F-statistic):             0.0464\n",
            "Time:                        16:54:25   Log-Likelihood:                -19.467\n",
            "No. Observations:                   4   AIC:                             44.93\n",
            "Df Residuals:                       1   BIC:                             43.09\n",
            "Df Model:                           2                                         \n",
            "Covariance Type:            nonrobust                                         \n",
            "===============================================================================\n",
            "                  coef    std err          t      P>|t|      [0.025      0.975]\n",
            "-------------------------------------------------------------------------------\n",
            "const         251.0241    124.786      2.012      0.294   -1334.532    1836.580\n",
            "Publicidade     5.0265      1.190      4.223      0.148     -10.097      20.150\n",
            "Preço          19.2169     21.822      0.881      0.540    -258.056     296.490\n",
            "==============================================================================\n",
            "Omnibus:                          nan   Durbin-Watson:                   2.380\n",
            "Prob(Omnibus):                    nan   Jarque-Bera (JB):                0.431\n",
            "Skew:                          -0.555   Prob(JB):                        0.806\n",
            "Kurtosis:                       1.837   Cond. No.                     1.10e+03\n",
            "==============================================================================\n",
            "\n",
            "Notes:\n",
            "[1] Standard Errors assume that the covariance matrix of the errors is correctly specified.\n",
            "[2] The condition number is large, 1.1e+03. This might indicate that there are\n",
            "strong multicollinearity or other numerical problems.\n",
            "R-squared: 0.9978450633915856\n"
          ]
        }
      ],
      "source": [
        "# TODO\n",
        "# Qual o valor de R² ao ajustar o modelo OLS para publicidade X preço?\n",
        "import statsmodels.api as sm\n",
        "import pandas as pd\n",
        "\n",
        "import warnings\n",
        "warnings.filterwarnings(\"ignore\", message=\"omni_normtest is not valid with less than 8 observations\")\n",
        "\n",
        "import statsmodels.api as sm\n",
        "import pandas as pd\n",
        "\n",
        "df = pd.DataFrame({\n",
        "    'Publicidade': [100, 200, 300, 400],\n",
        "    'Preço': [10, 16, 18, 27],\n",
        "    'Vendas': [980, 1515, 2100, 2800]\n",
        "})\n",
        "\n",
        "X = df[['Publicidade', 'Preço']]\n",
        "y = df['Vendas']\n",
        "\n",
        "X = sm.add_constant(X)\n",
        "modelo = sm.OLS(y, X).fit()\n",
        "print(modelo.summary())\n",
        "print(f\"R-squared: {modelo.rsquared}\")"
      ]
    },
    {
      "cell_type": "code",
      "source": [
        "# TODO\n",
        "# Qual o valor de R² ao ajustar o modelo OLS para publicidade X preço?\n",
        "import statsmodels.api as sm\n",
        "import pandas as pd\n",
        "\n",
        "# Dados de exemplo\n",
        "df = pd.DataFrame({\n",
        "    'Publicidade': [100, 200, 300, 400],\n",
        "    'Preço': [10, 16, 18, 27],\n",
        "    'Vendas': [980, 1515, 2100, 2800]\n",
        "})\n",
        "\n",
        "# Variáveis independentes\n",
        "X = df[['Publicidade', 'Preço']]\n",
        "y = df['Vendas']\n",
        "\n",
        "# Adiciona intercepto\n",
        "X = sm.add_constant(X)\n",
        "\n",
        "# Ajusta o modelo\n",
        "modelo = sm.OLS(y, X).fit()\n",
        "\n",
        "# Imprime o valor de R²\n",
        "print(modelo.rsquared)"
      ],
      "metadata": {
        "colab": {
          "base_uri": "https://localhost:8080/"
        },
        "id": "qHzH8u0jEV2M",
        "outputId": "2f8c0fb5-698b-4724-f759-981e3bbfa65d"
      },
      "execution_count": 2,
      "outputs": [
        {
          "output_type": "stream",
          "name": "stdout",
          "text": [
            "0.9978450633915856\n"
          ]
        }
      ]
    },
    {
      "cell_type": "code",
      "source": [
        "# importando a biblioteca requests\n",
        "import requests\n",
        "# definindo a url\n",
        "url = \"https://jsonplaceholder.typicode.com/todos\"\n",
        "# fazendo uma requisição HTTP do tipo GET para a url\n",
        "response = requests.get(url)\n",
        "# colocando a lista de resultados em uma variável\n",
        "data = response.json()\n",
        "# printando o primeiro resultado da lista\n",
        "print(\"1º resultado:\", data[0])\n",
        "# temos uma lista de dicionários\n",
        "# estamos interessados na chave 'completed'\n",
        "completed = [todo for todo in data if todo['completed'] == True]\n",
        "uncompleted = [todo for todo in data if todo['completed'] == False]\n",
        "# mostrando o número de tarefas completas e incompletas\n",
        "print(\"Tarefas completas:\", len(completed))\n",
        "print(\"Tarefas incompletas:\", len(uncompleted))"
      ],
      "metadata": {
        "colab": {
          "base_uri": "https://localhost:8080/"
        },
        "id": "LNAapjakEY_i",
        "outputId": "fa97ce96-f3ff-4498-8869-3ad792d1a421"
      },
      "execution_count": 3,
      "outputs": [
        {
          "output_type": "stream",
          "name": "stdout",
          "text": [
            "1º resultado: {'userId': 1, 'id': 1, 'title': 'delectus aut autem', 'completed': False}\n",
            "Tarefas completas: 90\n",
            "Tarefas incompletas: 110\n"
          ]
        }
      ]
    },
    {
      "cell_type": "code",
      "source": [
        "#Chegou a sua vez, vamos utilizar a API Fake jsonplaceholder ainda.\n",
        "import requests\n",
        "\n",
        "# URL dos posts\n",
        "url = \"https://jsonplaceholder.typicode.com/posts\"\n",
        "\n",
        "# Fazendo a requisição GET\n",
        "response = requests.get(url)\n",
        "\n",
        "# Convertendo para JSON (lista de dicionários)\n",
        "posts = response.json()\n",
        "\n",
        "# Filtrando os posts do usuário com userId 5\n",
        "posts_usuario_5 = [post for post in posts if post['userId'] == 5]\n",
        "\n",
        "# Contando quantos posts\n",
        "print(f\"O usuário com Id 5 publicou {len(posts_usuario_5)} posts.\")"
      ],
      "metadata": {
        "colab": {
          "base_uri": "https://localhost:8080/"
        },
        "id": "yIdTUhXcEcU_",
        "outputId": "381b8806-5e00-4757-c8c2-1a698ac767ab"
      },
      "execution_count": 4,
      "outputs": [
        {
          "output_type": "stream",
          "name": "stdout",
          "text": [
            "O usuário com Id 5 publicou 10 posts.\n"
          ]
        }
      ]
    },
    {
      "cell_type": "code",
      "source": [
        "\n",
        "\n",
        "from sklearn.linear_model import LinearRegression\n",
        "import numpy as np\n",
        "\n",
        "# Dados (Publicidade e Vendas)\n",
        "X = np.array([100, 200, 300, 400]).reshape(-1, 1)  # variável independente\n",
        "y = np.array([980, 1515, 2100, 2800])              # variável dependente\n",
        "\n",
        "# Criando o modelo de regressão linear\n",
        "modelo = LinearRegression()\n",
        "\n",
        "# Ajustando o modelo aos dados\n",
        "modelo.fit(X, y)\n",
        "\n",
        "# Prevendo as vendas para um investimento em publicidade de 250\n",
        "previsao = modelo.predict([[250]])\n",
        "\n",
        "print(f\"Previsão de vendas para publicidade 250: {previsao[0]:.2f}\")\n",
        "\n",
        "# Coeficiente R² do modelo\n",
        "r2 = modelo.score(X, y)\n",
        "print(f\"R² do modelo: {r2:.4f}\")"
      ],
      "metadata": {
        "colab": {
          "base_uri": "https://localhost:8080/"
        },
        "id": "_D6LjvJyEevr",
        "outputId": "b3f7786e-7b2b-498b-dcc5-51754bee5b77"
      },
      "execution_count": 7,
      "outputs": [
        {
          "output_type": "stream",
          "name": "stdout",
          "text": [
            "Previsão de vendas para publicidade 250: 1848.75\n",
            "R² do modelo: 0.9962\n"
          ]
        }
      ]
    }
  ]
}