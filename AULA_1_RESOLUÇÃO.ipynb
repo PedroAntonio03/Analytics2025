{
  "nbformat": 4,
  "nbformat_minor": 0,
  "metadata": {
    "colab": {
      "provenance": []
    },
    "kernelspec": {
      "name": "python3",
      "display_name": "Python 3"
    },
    "language_info": {
      "name": "python"
    }
  },
  "cells": [
    {
      "cell_type": "code",
      "execution_count": 1,
      "metadata": {
        "colab": {
          "base_uri": "https://localhost:8080/"
        },
        "id": "R2q50eLCZnh_",
        "outputId": "7bedb50a-9703-4568-ed5c-84894c3a74a7"
      },
      "outputs": [
        {
          "output_type": "stream",
          "name": "stdout",
          "text": [
            "Receita total do mês: R$ 13,500.00\n"
          ]
        }
      ],
      "source": [
        "# Exercício 1: Cálculo de Receita Total\n",
        "preco_A = 50\n",
        "preco_B = 30\n",
        "preco_C = 20\n",
        "\n",
        "quantidade_A = 100\n",
        "quantidade_B = 150\n",
        "quantidade_C = 200\n",
        "\n",
        "receita_total = (preco_A * quantidade_A) + (preco_B * quantidade_B) + (preco_C * quantidade_C)\n",
        "\n",
        "print(f\"Receita total do mês: R$ {receita_total:,.2f}\")\n"
      ]
    },
    {
      "cell_type": "code",
      "source": [
        "# Exercício 2: Conversão de Moeda\n",
        "valor_reais = 5000.00\n",
        "taxa_cambio = 5.25\n",
        "\n",
        "valor_dolares = round(valor_reais / taxa_cambio, 2)\n",
        "\n",
        "print(f\"Valor em dólares: US$ {valor_dolares:,.2f}\")\n"
      ],
      "metadata": {
        "colab": {
          "base_uri": "https://localhost:8080/"
        },
        "id": "b5xkqf1IaWyg",
        "outputId": "8ffc0892-0ce8-41db-a715-09faa77f343f"
      },
      "execution_count": 2,
      "outputs": [
        {
          "output_type": "stream",
          "name": "stdout",
          "text": [
            "Valor em dólares: US$ 952.38\n"
          ]
        }
      ]
    },
    {
      "cell_type": "code",
      "source": [
        "# Exercício 3: Análise de Crescimento de Vendas\n",
        "vendas_janeiro = 120000.00\n",
        "vendas_fevereiro = 150000.00\n",
        "\n",
        "crescimento_percentual = round(((vendas_fevereiro - vendas_janeiro) / vendas_janeiro) * 100, 2)\n",
        "\n",
        "print(f\"Crescimento percentual das vendas: {crescimento_percentual}%\")\n"
      ],
      "metadata": {
        "colab": {
          "base_uri": "https://localhost:8080/"
        },
        "id": "Vm78aBasa8Fg",
        "outputId": "98f93f63-32ce-4efe-e92b-ffe84e695c66"
      },
      "execution_count": 3,
      "outputs": [
        {
          "output_type": "stream",
          "name": "stdout",
          "text": [
            "Crescimento percentual das vendas: 25.0%\n"
          ]
        }
      ]
    },
    {
      "cell_type": "code",
      "source": [
        "# Exercício 4: Cálculo do Lucro Bruto\n",
        "receita = 200000.00\n",
        "custos = 120000.00\n",
        "\n",
        "lucro_bruto = receita - custos\n",
        "margem_lucro = round((lucro_bruto / receita) * 100, 2)\n",
        "\n",
        "print(f\"Lucro bruto: R$ {lucro_bruto:,.2f}\")\n",
        "print(f\"Margem de lucro: {margem_lucro}%\")\n"
      ],
      "metadata": {
        "colab": {
          "base_uri": "https://localhost:8080/"
        },
        "id": "2v-si8gSbEZ0",
        "outputId": "2a159395-fdd4-46f4-c00f-9ddcb592349c"
      },
      "execution_count": 4,
      "outputs": [
        {
          "output_type": "stream",
          "name": "stdout",
          "text": [
            "Lucro bruto: R$ 80,000.00\n",
            "Margem de lucro: 40.0%\n"
          ]
        }
      ]
    },
    {
      "cell_type": "code",
      "source": [
        "# Exercício 5: Média de Satisfação do Cliente\n",
        "notas = [8, 9, 7, 10, 6]\n",
        "\n",
        "media_satisfacao = round(sum(notas) / len(notas), 1)\n",
        "\n",
        "print(f\"Média de satisfação dos clientes: {media_satisfacao}\")\n"
      ],
      "metadata": {
        "colab": {
          "base_uri": "https://localhost:8080/"
        },
        "id": "-F-gmFUKbKDW",
        "outputId": "5b86a50d-e3e5-46da-8921-c3241526cdd2"
      },
      "execution_count": 5,
      "outputs": [
        {
          "output_type": "stream",
          "name": "stdout",
          "text": [
            "Média de satisfação dos clientes: 8.0\n"
          ]
        }
      ]
    }
  ]
}